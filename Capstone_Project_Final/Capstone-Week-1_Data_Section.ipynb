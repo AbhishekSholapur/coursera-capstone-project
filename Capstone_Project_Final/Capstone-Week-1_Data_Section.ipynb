{
 "cells": [
  {
   "cell_type": "markdown",
   "metadata": {},
   "source": [
    "# __The Battle of two Indian cities - Mumbai vs. Chennai__"
   ]
  },
  {
   "cell_type": "markdown",
   "metadata": {},
   "source": [
    "## __Data__"
   ]
  },
  {
   "cell_type": "markdown",
   "metadata": {},
   "source": [
    "   To form a comparison anlaysis between the two Indian cities, the data that will be used in this project will be Foursquare Location data ( _by accessing the Foursquare API_ ) and then mapped onto Libraries like __Seaborn__ and __Folium Maps__ for visualization.  \n",
    "    \n",
    "   For e.g. the Mumbai venues grouped according to the venue categories (from a sample of 100 venues) would be fetched by these steps:\n",
    "\n",
    "   + Hit the explore __Foursquare API__ endpoint of both these cities  \n",
    "\n",
    "   + Fetch 100 of the venues and their categories and save these in separate __Pandas DataFrames__\n",
    "\n",
    "   + Group these venues according to their categories to form a grouped data of the highest occuring venue categories in that dataset\n",
    "\n",
    "   + Visualise that data using __Seaborn__ and __Folium Maps__"
   ]
  }
 ],
 "metadata": {
  "kernelspec": {
   "display_name": "Python 3",
   "language": "python",
   "name": "python3"
  },
  "language_info": {
   "codemirror_mode": {
    "name": "ipython",
    "version": 3
   },
   "file_extension": ".py",
   "mimetype": "text/x-python",
   "name": "python",
   "nbconvert_exporter": "python",
   "pygments_lexer": "ipython3",
   "version": "3.7.1"
  }
 },
 "nbformat": 4,
 "nbformat_minor": 2
}
