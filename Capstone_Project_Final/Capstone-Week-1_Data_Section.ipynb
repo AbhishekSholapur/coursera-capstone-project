{
 "cells": [
  {
   "cell_type": "markdown",
   "metadata": {},
   "source": [
    "# Capstone Project - The Battle of the Neighborhoods (Week 1)\n",
    "### Applied Data Science Capstone by IBM/Coursera"
   ]
  },
  {
   "cell_type": "markdown",
   "metadata": {},
   "source": [
    "## __Data Description__"
   ]
  },
  {
   "cell_type": "markdown",
   "metadata": {},
   "source": [
    "The datasets that will be used are for retrieving information about city's neighborhoods and their characteristics are taken from Wikipedia website for the Toronto demographic information:\n",
    "\n",
    "+ https://en.wikipedia.org/wiki/Demographics_of_Toronto_neighbourhoods\n",
    "\n",
    "The geographic coordinates of the neighborhoods of Old Toronto are taken from:\n",
    "\n",
    "+ File 'oldToronto.csv' which the latitude and longitude per neighborhood in Old Toronto area.\n",
    "\n",
    "Combining the above data sets, we get demographic information, focused on Old Toronto's neighborhoods and the exact coordinates per neighborhood. Then by using the __Foursquare API__, we can retrieve further information for venues, venue categories and venue coordinates for every area. The Foursquare data set combined with the neighborhood's data set with demographic information will be the main data set that we will be used for the analysis. Visualization of the results via maps and graphs, where possible, will help to explain the data.\n",
    "\n",
    "Based on the language spoken (second language spoken after 'English'), the neighborhood's population and the number of ethnic restaurants (restaurants with ethnicity common with the language spoken) in a neighborhood the best possible set of candidate neighborhoods can be retrieved. Then by using k-means algorithm the candidate neighborhoods will be further analyzed. The final results, via tables and maps will conclude on finding the best neighborhood to start an ethnic restaurant in an ethnic-cultural neighborhood, show any existing patterns and similarities between ethnic restaurants and ethnic populated neighborhoods in Old Toronto area."
   ]
  }
 ],
 "metadata": {
  "kernelspec": {
   "display_name": "Python 3",
   "language": "python",
   "name": "python3"
  },
  "language_info": {
   "codemirror_mode": {
    "name": "ipython",
    "version": 3
   },
   "file_extension": ".py",
   "mimetype": "text/x-python",
   "name": "python",
   "nbconvert_exporter": "python",
   "pygments_lexer": "ipython3",
   "version": "3.7.1"
  }
 },
 "nbformat": 4,
 "nbformat_minor": 2
}
