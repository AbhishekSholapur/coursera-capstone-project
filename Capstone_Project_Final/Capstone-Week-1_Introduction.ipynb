{
 "cells": [
  {
   "cell_type": "markdown",
   "metadata": {},
   "source": [
    "# __The Battle of two Indian cities - Mumbai vs. Chennai__"
   ]
  },
  {
   "cell_type": "markdown",
   "metadata": {},
   "source": [
    "## __Introduction / Business Problem__"
   ]
  },
  {
   "cell_type": "markdown",
   "metadata": {},
   "source": [
    "   + Mumbai and Chennai are one of the most popular and the most visited cities in the India.  \n",
    "   \n",
    "   + This Capstone project will focus on some of the Venue Categories in Mumbai and Chennai, using the __Foursquare Location data__.   \n",
    "   \n",
    "   + This involves fetching a sample of Venue data from the __Foursquare API__ and arranging them on the basis of the most frequent venue categories, along with the venues falling under that category.  "
   ]
  },
  {
   "cell_type": "markdown",
   "metadata": {},
   "source": [
    "   _For e.g. From a sample of 100 Venues, Mumbai has five popular restaurant whereas in the 100 sample data set of venues in Chennai, we find only one popular restaurant._   \n",
    "   \n",
    "   + The Business Problem is more of an informative reflection on the comparison of these two great cities. \n",
    "   \n",
    "   + Thus, the target audience could comprise of the _popular demographic or tourists traveling_ to/fro these locations to explore the venues hosted here. \n",
    "   \n",
    "   + This project tries to showcase the venues from both these cities and forms a comparison of sorts between the two cities.  "
   ]
  }
 ],
 "metadata": {
  "kernelspec": {
   "display_name": "Python 3",
   "language": "python",
   "name": "python3"
  },
  "language_info": {
   "codemirror_mode": {
    "name": "ipython",
    "version": 3
   },
   "file_extension": ".py",
   "mimetype": "text/x-python",
   "name": "python",
   "nbconvert_exporter": "python",
   "pygments_lexer": "ipython3",
   "version": "3.7.1"
  }
 },
 "nbformat": 4,
 "nbformat_minor": 2
}
