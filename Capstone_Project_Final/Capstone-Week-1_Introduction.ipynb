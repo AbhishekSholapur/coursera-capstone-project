{
 "cells": [
  {
   "cell_type": "markdown",
   "metadata": {},
   "source": [
    "# _Capstone Project - The Battle of the Neighborhoods (Week 1)_\n",
    "\n",
    "### Applied Data Science Capstone by IBM/Coursera"
   ]
  },
  {
   "cell_type": "markdown",
   "metadata": {},
   "source": [
    "## __Introduction: Business Problem__"
   ]
  },
  {
   "cell_type": "markdown",
   "metadata": {},
   "source": [
    "   The current study will try to provide an optimum location for __opening a new business in Toronto__, based on:  \n",
    "\n",
    "+ A neighborhoods property, e.g. the second most common language spoken (after English) in the neighborhood,\n",
    "\n",
    "+ The number of competitors in the neighborhood,\n",
    "\n",
    "+ The population density in the neighborhood.\n",
    "\n",
    "Let's investigate in Toronto, and propose the best possible place for opening a new restaurant with ethnic cuisine. Assume that preferably we would like the new restaurant to be located in a neighborhood with a high degree of the same ethnic characteristics, i.e. assume the languages spoken in that neighborhood, so to take advantage of the cultural element of the area. In order to sustain the new business, there should be a lot of population and the less number of competitors possible.\n",
    "\n",
    "\n",
    "__TARGET AUDIENCE__ The results could be highly useful for people having ethnic cooking skills or restaurant-businessmen, and want to open an ethnic restaurant in a neighborhood having some degree of the same ethnic culture in Old Toronto."
   ]
  }
 ],
 "metadata": {
  "kernelspec": {
   "display_name": "Python 3",
   "language": "python",
   "name": "python3"
  },
  "language_info": {
   "codemirror_mode": {
    "name": "ipython",
    "version": 3
   },
   "file_extension": ".py",
   "mimetype": "text/x-python",
   "name": "python",
   "nbconvert_exporter": "python",
   "pygments_lexer": "ipython3",
   "version": "3.7.1"
  }
 },
 "nbformat": 4,
 "nbformat_minor": 2
}
