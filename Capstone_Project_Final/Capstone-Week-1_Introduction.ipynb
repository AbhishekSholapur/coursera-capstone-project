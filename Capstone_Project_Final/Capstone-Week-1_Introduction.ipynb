{
 "cells": [
  {
   "cell_type": "markdown",
   "metadata": {},
   "source": [
    "# __The Battle of two Indian cities - Mumbai vs. Chennai__"
   ]
  },
  {
   "cell_type": "markdown",
   "metadata": {},
   "source": [
    "### __Introduction / Business Problem__"
   ]
  },
  {
   "cell_type": "markdown",
   "metadata": {},
   "source": [
    "   + __Mumbai__ and __Chennai__ are one of the most popular and the most visited cities in the India.  \n",
    "   \n",
    "   + This Capstone project will focus on some of the Venue Categories in __Mumbai__ and __London__, using the Foursquare Location data.   \n",
    "   \n",
    "   + This involves fetching a sample of Venue data from the Foursquare API and arranging them on the basis of the most frequent venue categories, along with the venues falling under that category.  "
   ]
  },
  {
   "cell_type": "markdown",
   "metadata": {},
   "source": [
    "   _For e.g. From a sample of 100 Venues, __Mumbai__ has five popular beaches whereas in the 100 sample data set of venues in __Chennai__, we find only one popular beach._   \n",
    "   \n",
    "   + The Business Problem is more of an informative reflection on the comparison of these two great cities. \n",
    "   \n",
    "   + Thus, the target audience could comprise of the popular demographic or tourists traveling to/fro these locations to explore the venues hosted here. \n",
    "   \n",
    "   + This project tries to showcase the venues from both these cities and forms a comparison of sorts between the two cities.  "
   ]
  }
 ],
 "metadata": {
  "kernelspec": {
   "display_name": "Python 3",
   "language": "python",
   "name": "python3"
  },
  "language_info": {
   "codemirror_mode": {
    "name": "ipython",
    "version": 3
   },
   "file_extension": ".py",
   "mimetype": "text/x-python",
   "name": "python",
   "nbconvert_exporter": "python",
   "pygments_lexer": "ipython3",
   "version": "3.7.1"
  }
 },
 "nbformat": 4,
 "nbformat_minor": 2
}
